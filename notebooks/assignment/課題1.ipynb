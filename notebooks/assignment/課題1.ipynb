{
  "cells": [
    {
      "cell_type": "markdown",
      "metadata": {
        "colab_type": "text",
        "id": "view-in-github"
      },
      "source": [
        "<a href=\"https://colab.research.google.com/github/takahiromiura/class_data_analysis_I/blob/main/notebooks/assignment/assignment1.ipynb\" target=\"_parent\"><img src=\"https://colab.research.google.com/assets/colab-badge.svg\" alt=\"Open In Colab\"/></a>"
      ]
    },
    {
      "cell_type": "markdown",
      "metadata": {
        "id": "YSBbZQLahU26"
      },
      "source": [
        "# 課題に関する注意\n",
        "\n",
        "- 元のセルは削除しないでください\n",
        "- 提出用のファイルは、`ファイル -> ダウンロード -> .ipynb をダウンロード` でダウンロードします (.py ファイルではありません)。\n",
        "- ファイル提出前に `ランタイム -> セッションを再起動して全て実行する` を行い、結果を保存したものを提出してください。\n",
        "- 最後まで実行できないファイルは評価対象外です。"
      ]
    },
    {
      "cell_type": "markdown",
      "metadata": {},
      "source": [
        "# 課題 1\n",
        "\n",
        "## 例題\n",
        "\n",
        "3090 に 20596 を掛けた値を求めてください。"
      ]
    },
    {
      "cell_type": "code",
      "execution_count": null,
      "metadata": {},
      "outputs": [],
      "source": [
        "3090 * 20596"
      ]
    },
    {
      "cell_type": "markdown",
      "metadata": {
        "id": "Fq64OeEHdn1c"
      },
      "source": [
        "## 問 1\n",
        "\n",
        "1933095 を 3 で割った余りを求めてください。"
      ]
    },
    {
      "cell_type": "code",
      "execution_count": null,
      "metadata": {},
      "outputs": [],
      "source": []
    },
    {
      "cell_type": "markdown",
      "metadata": {},
      "source": [
        "## 問 2\n",
        "\n",
        "あなたは現在、プログラミングについてどのくらいの知識がありますか。\n",
        "また、この講義で何を学びたいですか。\n",
        "具体的に教えてください。"
      ]
    },
    {
      "cell_type": "markdown",
      "metadata": {},
      "source": [
        "[ここに回答してください]"
      ]
    }
  ],
  "metadata": {
    "colab": {
      "authorship_tag": "ABX9TyMI1opopBmH0zCiKXPdIr4k",
      "include_colab_link": true,
      "provenance": []
    },
    "kernelspec": {
      "display_name": "Python 3",
      "name": "python3"
    },
    "language_info": {
      "name": "python"
    }
  },
  "nbformat": 4,
  "nbformat_minor": 0
}
